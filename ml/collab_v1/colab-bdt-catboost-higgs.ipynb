{
 "cells": [
  {
   "cell_type": "code",
   "execution_count": 1,
   "metadata": {
    "colab": {
     "base_uri": "https://localhost:8080/"
    },
    "executionInfo": {
     "elapsed": 20450,
     "status": "ok",
     "timestamp": 1737021997800,
     "user": {
      "displayName": "Borut Kersevan",
      "userId": "09426954354659638077"
     },
     "user_tz": -60
    },
    "id": "zv5UJ_qFiY3x",
    "outputId": "a4a917d5-89c3-4aa0-a5a1-be0a9fde228a"
   },
   "outputs": [
    {
     "name": "stdout",
     "output_type": "stream",
     "text": [
      "Requirement already satisfied: wget in /home/luka/Documents/Programming/school/mp/ml/.venv/lib64/python3.11/site-packages (3.2)\n",
      "Requirement already satisfied: catboost in /home/luka/Documents/Programming/school/mp/ml/.venv/lib64/python3.11/site-packages (1.2.8)\n",
      "Requirement already satisfied: graphviz in /home/luka/Documents/Programming/school/mp/ml/.venv/lib64/python3.11/site-packages (from catboost) (0.21)\n",
      "Requirement already satisfied: matplotlib in /home/luka/Documents/Programming/school/mp/ml/.venv/lib64/python3.11/site-packages (from catboost) (3.10.3)\n",
      "Requirement already satisfied: numpy<3.0,>=1.16.0 in /home/luka/Documents/Programming/school/mp/ml/.venv/lib64/python3.11/site-packages (from catboost) (2.1.3)\n",
      "Requirement already satisfied: pandas>=0.24 in /home/luka/Documents/Programming/school/mp/ml/.venv/lib64/python3.11/site-packages (from catboost) (2.3.0)\n",
      "Requirement already satisfied: scipy in /home/luka/Documents/Programming/school/mp/ml/.venv/lib64/python3.11/site-packages (from catboost) (1.16.0)\n",
      "Requirement already satisfied: plotly in /home/luka/Documents/Programming/school/mp/ml/.venv/lib64/python3.11/site-packages (from catboost) (6.2.0)\n",
      "Requirement already satisfied: six in /home/luka/Documents/Programming/school/mp/ml/.venv/lib64/python3.11/site-packages (from catboost) (1.17.0)\n",
      "Requirement already satisfied: python-dateutil>=2.8.2 in /home/luka/Documents/Programming/school/mp/ml/.venv/lib64/python3.11/site-packages (from pandas>=0.24->catboost) (2.9.0.post0)\n",
      "Requirement already satisfied: pytz>=2020.1 in /home/luka/Documents/Programming/school/mp/ml/.venv/lib64/python3.11/site-packages (from pandas>=0.24->catboost) (2025.2)\n",
      "Requirement already satisfied: tzdata>=2022.7 in /home/luka/Documents/Programming/school/mp/ml/.venv/lib64/python3.11/site-packages (from pandas>=0.24->catboost) (2025.2)\n",
      "Requirement already satisfied: contourpy>=1.0.1 in /home/luka/Documents/Programming/school/mp/ml/.venv/lib64/python3.11/site-packages (from matplotlib->catboost) (1.3.2)\n",
      "Requirement already satisfied: cycler>=0.10 in /home/luka/Documents/Programming/school/mp/ml/.venv/lib64/python3.11/site-packages (from matplotlib->catboost) (0.12.1)\n",
      "Requirement already satisfied: fonttools>=4.22.0 in /home/luka/Documents/Programming/school/mp/ml/.venv/lib64/python3.11/site-packages (from matplotlib->catboost) (4.58.4)\n",
      "Requirement already satisfied: kiwisolver>=1.3.1 in /home/luka/Documents/Programming/school/mp/ml/.venv/lib64/python3.11/site-packages (from matplotlib->catboost) (1.4.8)\n",
      "Requirement already satisfied: packaging>=20.0 in /home/luka/Documents/Programming/school/mp/ml/.venv/lib64/python3.11/site-packages (from matplotlib->catboost) (25.0)\n",
      "Requirement already satisfied: pillow>=8 in /home/luka/Documents/Programming/school/mp/ml/.venv/lib64/python3.11/site-packages (from matplotlib->catboost) (11.2.1)\n",
      "Requirement already satisfied: pyparsing>=2.3.1 in /home/luka/Documents/Programming/school/mp/ml/.venv/lib64/python3.11/site-packages (from matplotlib->catboost) (3.2.3)\n",
      "Requirement already satisfied: narwhals>=1.15.1 in /home/luka/Documents/Programming/school/mp/ml/.venv/lib64/python3.11/site-packages (from plotly->catboost) (1.44.0)\n"
     ]
    }
   ],
   "source": [
    "!pip install wget\n",
    "!pip install catboost"
   ]
  },
  {
   "cell_type": "code",
   "execution_count": 2,
   "metadata": {
    "colab": {
     "base_uri": "https://localhost:8080/"
    },
    "executionInfo": {
     "elapsed": 9838,
     "status": "ok",
     "timestamp": 1737022038937,
     "user": {
      "displayName": "Borut Kersevan",
      "userId": "09426954354659638077"
     },
     "user_tz": -60
    },
    "id": "AjTOQrZgZXgP",
    "outputId": "d0603e36-0e0e-4b69-aaeb-6dd317b3ab6c"
   },
   "outputs": [
    {
     "ename": "ModuleNotFoundError",
     "evalue": "No module named 'google.colab'",
     "output_type": "error",
     "traceback": [
      "\u001b[31m---------------------------------------------------------------------------\u001b[39m",
      "\u001b[31mModuleNotFoundError\u001b[39m                       Traceback (most recent call last)",
      "\u001b[36mCell\u001b[39m\u001b[36m \u001b[39m\u001b[32mIn[2]\u001b[39m\u001b[32m, line 3\u001b[39m\n\u001b[32m      1\u001b[39m \u001b[38;5;28;01mimport\u001b[39;00m\u001b[38;5;250m \u001b[39m\u001b[34;01mos\u001b[39;00m,\u001b[34;01msys\u001b[39;00m\n\u001b[32m----> \u001b[39m\u001b[32m3\u001b[39m \u001b[38;5;28;01mfrom\u001b[39;00m\u001b[38;5;250m \u001b[39m\u001b[34;01mgoogle\u001b[39;00m\u001b[34;01m.\u001b[39;00m\u001b[34;01mcolab\u001b[39;00m\u001b[38;5;250m \u001b[39m\u001b[38;5;28;01mimport\u001b[39;00m drive\n\u001b[32m      4\u001b[39m drive.mount(\u001b[33m'\u001b[39m\u001b[33m/content/drive\u001b[39m\u001b[33m'\u001b[39m)\n\u001b[32m      5\u001b[39m sys.path.append(\u001b[33m\"\u001b[39m\u001b[33m/content/drive/My Drive/Collab/collab_v1\u001b[39m\u001b[33m\"\u001b[39m)\n",
      "\u001b[31mModuleNotFoundError\u001b[39m: No module named 'google.colab'"
     ]
    }
   ],
   "source": [
    "import os,sys\n",
    "\n",
    "from google.colab import drive\n",
    "drive.mount('/content/drive')\n",
    "sys.path.append(\"/content/drive/My Drive/Collab/collab_v1\")\n",
    "%cd \"/content/drive/My Drive/Collab/collab_v1\""
   ]
  },
  {
   "cell_type": "code",
   "execution_count": 1,
   "metadata": {
    "executionInfo": {
     "elapsed": 4433,
     "status": "ok",
     "timestamp": 1737022045702,
     "user": {
      "displayName": "Borut Kersevan",
      "userId": "09426954354659638077"
     },
     "user_tz": -60
    },
    "id": "lJj-Q48YiXck"
   },
   "outputs": [],
   "source": [
    "import numpy as np\n",
    "import pandas as pd\n",
    "import matplotlib.pyplot as plt\n",
    "from sklearn.model_selection import train_test_split\n",
    "from sklearn.metrics import roc_auc_score\n",
    "\n",
    "#some plotting routines\n",
    "import plotting\n",
    "\n",
    "# data processing\n",
    "import data_higgs as dh\n",
    "\n",
    "from catboost import CatBoostClassifier, Pool\n",
    "# from google.colab import output\n",
    "# output.enable_custom_widget_manager()"
   ]
  },
  {
   "cell_type": "code",
   "execution_count": 2,
   "metadata": {
    "executionInfo": {
     "elapsed": 280,
     "status": "ok",
     "timestamp": 1737022049743,
     "user": {
      "displayName": "Borut Kersevan",
      "userId": "09426954354659638077"
     },
     "user_tz": -60
    },
    "id": "qv7WmitaiXcn"
   },
   "outputs": [],
   "source": [
    "#--------- globals\n",
    "\n",
    "# Need to see a large portion of the data before we can build a layer, for\n",
    "# example half of data n_batches_per_layer =  NBATCH_FRAC * NUM_EXAMPLES / BATCH_SIZE\n",
    "BATCH_SIZE = 1000\n",
    "\n",
    "# Seed value\n",
    "# Apparently you may use different seed values at each stage\n",
    "SEED_VALUE= 10001\n",
    "# 1. Set `PYTHONHASHSEED` environment variable at a fixed value\n",
    "import os\n",
    "os.environ['PYTHONHASHSEED']=str(SEED_VALUE)\n",
    "# 2. Set `python` built-in pseudo-random generator at a fixed value\n",
    "import random\n",
    "random.seed(SEED_VALUE)\n",
    "# 3. Set `numpy` pseudo-random generator at a fixed value\n",
    "np.random.seed(SEED_VALUE)\n",
    "# # 4. Set `tensorflow` pseudo-random generator at a fixed value\n",
    "# tf.random.set_seed(SEED_VALUE)"
   ]
  },
  {
   "cell_type": "code",
   "execution_count": 3,
   "metadata": {
    "executionInfo": {
     "elapsed": 271,
     "status": "ok",
     "timestamp": 1737022052870,
     "user": {
      "displayName": "Borut Kersevan",
      "userId": "09426954354659638077"
     },
     "user_tz": -60
    },
    "id": "1I2kymIxiXcq"
   },
   "outputs": [],
   "source": [
    "#-------- routines\n",
    "\n",
    "def split_xy(rawdata):\n",
    "    #split features and labels from data\n",
    "    #prepare the data => normalizations !\n",
    "\n",
    "    # split\n",
    "    data_y=rawdata['hlabel'] # labels only: 0.=bkg, 1.=sig\n",
    "    data_x=rawdata.drop(['hlabel'], axis=1) # features only\n",
    "\n",
    "    #now prepare the data\n",
    "    mu = data_x.mean()\n",
    "    s = data_x.std()\n",
    "    dmax = data_x.max()\n",
    "    dmin = data_x.min()\n",
    "\n",
    "    # normal/standard rescaling\n",
    "    data_x = (data_x - mu)/s\n",
    "\n",
    "    #scaling to [-1,1] range\n",
    "    #data_x = -1. + 2.*(data_x - dmin)/(dmax-dmin)\n",
    "\n",
    "    # scaling to [0,1] range\n",
    "    #data_x = (data_x - dmin)/(dmax-dmin)\n",
    "\n",
    "\n",
    "    return data_x,data_y"
   ]
  },
  {
   "cell_type": "code",
   "execution_count": 4,
   "metadata": {
    "executionInfo": {
     "elapsed": 238,
     "status": "ok",
     "timestamp": 1737022055716,
     "user": {
      "displayName": "Borut Kersevan",
      "userId": "09426954354659638077"
     },
     "user_tz": -60
    },
    "id": "06N1C5bfiXct"
   },
   "outputs": [],
   "source": [
    "def main(nepoch=100):\n",
    "        # Training progress and eval results are shown as logging.INFO; so enables it.\n",
    "\n",
    "    #needs to be done once if the h5 files need to be recreated...\n",
    "    # dh.download_and_make_data()\n",
    "\n",
    "    hdata=dh.load_data()\n",
    "    data_fnames=hdata['feature_names'].to_numpy()[1:] #labels not needed\n",
    "    n_dims=data_fnames.shape[0]\n",
    "    print (\"Entries read {} with feature names {}\".format(n_dims,data_fnames))\n",
    "\n",
    "    x_trn,y_trn=split_xy(hdata['train']) # training sample, should split a fraction for testing\n",
    "    x_train, x_test,y_train, y_test = train_test_split(x_trn,y_trn,test_size=0.1) # 10% split\n",
    "    x_val,y_val=split_xy(hdata['valid']) # independent cross-valid sample\n",
    "\n",
    "    print(\"Shapes train:{} and test:{}\".format(x_train.shape,x_test.shape))\n",
    "\n",
    "    #plot distributions\n",
    "    plotting.plot_sig_bkg_from_np_arrays(x_train.to_numpy(),y_train.to_numpy(),data_fnames,logy=False)\n",
    "\n",
    "    # ready the data for Catboost\n",
    "    pool_train = Pool(data=x_train.to_numpy(),label=y_train.to_numpy(),feature_names=data_fnames.tolist())\n",
    "    pool_test = Pool(data=x_test.to_numpy(),label=y_test.to_numpy(),feature_names=data_fnames.tolist())\n",
    "\n",
    "    #NaKratko .... !\n",
    "\n",
    "    # CatBoost parameters\n",
    "    eval_metric = 'AUC' # see https://catboost.ai/docs/concepts/loss-functions-classification.html\n",
    "    task_type = 'CPU'  # if GPU else 'CPU'\n",
    "    max_number_of_trees = nepoch\n",
    "    #eval_metric = 'Accuracy'\n",
    "    bdt=CatBoostClassifier(\n",
    "        verbose=True,\n",
    "        task_type=task_type,\n",
    "        loss_function='Logloss', # see values same as in eval_metric, e.g. CrossEntropy, Logloss is default\n",
    "        iterations=max_number_of_trees,\n",
    "        eval_metric=eval_metric,\n",
    "        learning_rate=0.01,\n",
    "        max_depth=6,\n",
    "        use_best_model=False,\n",
    "        random_seed=SEED_VALUE,\n",
    "        )\n",
    "\n",
    "    #now train the model\n",
    "    bdt.fit(\n",
    "            pool_train,\n",
    "            early_stopping_rounds=20,\n",
    "            #is early stopping relevant?\n",
    "            eval_set=pool_test,\n",
    "            plot=True # works when called through Ipython/jupyter\n",
    "        )\n",
    "\n",
    "\n",
    "    print()\n",
    "    #plot & print results like ROC and score distribution etc...\n",
    "    y_score=bdt.predict_proba(x_val.to_numpy())[:,1]\n",
    "    print(\"score shape {}\",y_score.shape)\n",
    "    plotting.plot_roc(y_val,y_score)\n",
    "    plotting.plot_score(y_val,y_score)\n",
    "    auc=roc_auc_score(y_val,y_score)\n",
    "    print(\"AUC score: {}\".format(auc))"
   ]
  },
  {
   "cell_type": "code",
   "execution_count": 6,
   "metadata": {
    "colab": {
     "base_uri": "https://localhost:8080/",
     "height": 1000,
     "referenced_widgets": [
      "10a7fd99c1d346cab1b874fe3a33b578"
     ]
    },
    "executionInfo": {
     "elapsed": 16112,
     "status": "ok",
     "timestamp": 1737022074966,
     "user": {
      "displayName": "Borut Kersevan",
      "userId": "09426954354659638077"
     },
     "user_tz": -60
    },
    "id": "zHzvOWjxiXcv",
    "outputId": "99e5209e-adf3-434a-9949-f5ae9fc67a64",
    "scrolled": false
   },
   "outputs": [
    {
     "name": "stdout",
     "output_type": "stream",
     "text": [
      "Loading /home/luka/Documents/Programming/school/mp/ml/collab_v1/data/higgs-parsed/higgs-parsed.h5...\n",
      "Loaded.\n",
      "Entries read 28 with feature names ['lepton-pT' 'lepton-eta' 'lepton-phi' 'missing-energy'\n",
      " 'missing-energy-phi' 'jet_1-pt' 'jet_1-eta' 'jet_1-phi' 'jet_1-b-tag'\n",
      " 'jet_2-pt' 'jet_2-eta' 'jet_2-phi' 'jet_2-b-tag' 'jet_3-pt' 'jet_3-eta'\n",
      " 'jet_3-phi' 'jet_3-b-tag' 'jet_4-pt' 'jet_4-eta' 'jet_4-phi'\n",
      " 'jet_4-b-tag' 'm_jj' 'm_jjj' 'm_lv' 'm_jlv' 'm_bb' 'm_wbb' 'm_wwbb']\n",
      "Shapes train:(360000, 28) and test:(40000, 28)\n"
     ]
    },
    {
     "ename": "ValueError",
     "evalue": "num must be an integer with 1 <= num <= 18, not 19",
     "output_type": "error",
     "traceback": [
      "\u001b[31m---------------------------------------------------------------------------\u001b[39m",
      "\u001b[31mValueError\u001b[39m                                Traceback (most recent call last)",
      "\u001b[36mCell\u001b[39m\u001b[36m \u001b[39m\u001b[32mIn[6]\u001b[39m\u001b[32m, line 1\u001b[39m\n\u001b[32m----> \u001b[39m\u001b[32m1\u001b[39m \u001b[43mmain\u001b[49m\u001b[43m(\u001b[49m\u001b[32;43m50\u001b[39;49m\u001b[43m)\u001b[49m\n",
      "\u001b[36mCell\u001b[39m\u001b[36m \u001b[39m\u001b[32mIn[4]\u001b[39m\u001b[32m, line 19\u001b[39m, in \u001b[36mmain\u001b[39m\u001b[34m(nepoch)\u001b[39m\n\u001b[32m     16\u001b[39m \u001b[38;5;28mprint\u001b[39m(\u001b[33m\"\u001b[39m\u001b[33mShapes train:\u001b[39m\u001b[38;5;132;01m{}\u001b[39;00m\u001b[33m and test:\u001b[39m\u001b[38;5;132;01m{}\u001b[39;00m\u001b[33m\"\u001b[39m.format(x_train.shape,x_test.shape))\n\u001b[32m     18\u001b[39m \u001b[38;5;66;03m#plot distributions\u001b[39;00m\n\u001b[32m---> \u001b[39m\u001b[32m19\u001b[39m \u001b[43mplotting\u001b[49m\u001b[43m.\u001b[49m\u001b[43mplot_sig_bkg_from_np_arrays\u001b[49m\u001b[43m(\u001b[49m\u001b[43mx_train\u001b[49m\u001b[43m.\u001b[49m\u001b[43mto_numpy\u001b[49m\u001b[43m(\u001b[49m\u001b[43m)\u001b[49m\u001b[43m,\u001b[49m\u001b[43my_train\u001b[49m\u001b[43m.\u001b[49m\u001b[43mto_numpy\u001b[49m\u001b[43m(\u001b[49m\u001b[43m)\u001b[49m\u001b[43m,\u001b[49m\u001b[43mdata_fnames\u001b[49m\u001b[43m,\u001b[49m\u001b[43mlogy\u001b[49m\u001b[43m=\u001b[49m\u001b[38;5;28;43;01mFalse\u001b[39;49;00m\u001b[43m)\u001b[49m\n\u001b[32m     21\u001b[39m \u001b[38;5;66;03m# ready the data for Catboost\u001b[39;00m\n\u001b[32m     22\u001b[39m pool_train = Pool(data=x_train.to_numpy(),label=y_train.to_numpy(),feature_names=data_fnames.tolist())\n",
      "\u001b[36mFile \u001b[39m\u001b[32m~/Documents/Programming/school/mp/ml/collab_v1/plotting.py:50\u001b[39m, in \u001b[36mplot_sig_bkg_from_np_arrays\u001b[39m\u001b[34m(features, labels, feature_names, logy)\u001b[39m\n\u001b[32m     47\u001b[39m plt.figure(figsize=(\u001b[38;5;28mlen\u001b[39m(features), \u001b[32m10\u001b[39m))\n\u001b[32m     48\u001b[39m \u001b[38;5;28;01mfor\u001b[39;00m i \u001b[38;5;129;01min\u001b[39;00m \u001b[38;5;28mrange\u001b[39m(num_features):\n\u001b[32m     49\u001b[39m     \u001b[38;5;66;03m# for i in range(4):\u001b[39;00m\n\u001b[32m---> \u001b[39m\u001b[32m50\u001b[39m     \u001b[43mplt\u001b[49m\u001b[43m.\u001b[49m\u001b[43msubplot\u001b[49m\u001b[43m(\u001b[49m\u001b[32;43m3\u001b[39;49m\u001b[43m,\u001b[49m\u001b[43m \u001b[49m\u001b[32;43m6\u001b[39;49m\u001b[43m,\u001b[49m\u001b[43m \u001b[49m\u001b[43mi\u001b[49m\u001b[43m \u001b[49m\u001b[43m+\u001b[49m\u001b[43m \u001b[49m\u001b[32;43m1\u001b[39;49m\u001b[43m)\u001b[49m\n\u001b[32m     51\u001b[39m     \u001b[38;5;66;03m# plt.xticks([])\u001b[39;00m\n\u001b[32m     52\u001b[39m     plt.yticks([])\n",
      "\u001b[36mFile \u001b[39m\u001b[32m~/Documents/Programming/school/mp/ml/.venv/lib64/python3.11/site-packages/matplotlib/pyplot.py:1552\u001b[39m, in \u001b[36msubplot\u001b[39m\u001b[34m(*args, **kwargs)\u001b[39m\n\u001b[32m   1549\u001b[39m fig = gcf()\n\u001b[32m   1551\u001b[39m \u001b[38;5;66;03m# First, search for an existing subplot with a matching spec.\u001b[39;00m\n\u001b[32m-> \u001b[39m\u001b[32m1552\u001b[39m key = \u001b[43mSubplotSpec\u001b[49m\u001b[43m.\u001b[49m\u001b[43m_from_subplot_args\u001b[49m\u001b[43m(\u001b[49m\u001b[43mfig\u001b[49m\u001b[43m,\u001b[49m\u001b[43m \u001b[49m\u001b[43margs\u001b[49m\u001b[43m)\u001b[49m\n\u001b[32m   1554\u001b[39m \u001b[38;5;28;01mfor\u001b[39;00m ax \u001b[38;5;129;01min\u001b[39;00m fig.axes:\n\u001b[32m   1555\u001b[39m     \u001b[38;5;66;03m# If we found an Axes at the position, we can reuse it if the user passed no\u001b[39;00m\n\u001b[32m   1556\u001b[39m     \u001b[38;5;66;03m# kwargs or if the Axes class and kwargs are identical.\u001b[39;00m\n\u001b[32m   1557\u001b[39m     \u001b[38;5;28;01mif\u001b[39;00m (ax.get_subplotspec() == key\n\u001b[32m   1558\u001b[39m         \u001b[38;5;129;01mand\u001b[39;00m (kwargs == {}\n\u001b[32m   1559\u001b[39m              \u001b[38;5;129;01mor\u001b[39;00m (ax._projection_init\n\u001b[32m   1560\u001b[39m                  == fig._process_projection_requirements(**kwargs)))):\n",
      "\u001b[36mFile \u001b[39m\u001b[32m~/Documents/Programming/school/mp/ml/.venv/lib64/python3.11/site-packages/matplotlib/gridspec.py:589\u001b[39m, in \u001b[36mSubplotSpec._from_subplot_args\u001b[39m\u001b[34m(figure, args)\u001b[39m\n\u001b[32m    587\u001b[39m \u001b[38;5;28;01melse\u001b[39;00m:\n\u001b[32m    588\u001b[39m     \u001b[38;5;28;01mif\u001b[39;00m \u001b[38;5;129;01mnot\u001b[39;00m \u001b[38;5;28misinstance\u001b[39m(num, Integral) \u001b[38;5;129;01mor\u001b[39;00m num < \u001b[32m1\u001b[39m \u001b[38;5;129;01mor\u001b[39;00m num > rows*cols:\n\u001b[32m--> \u001b[39m\u001b[32m589\u001b[39m         \u001b[38;5;28;01mraise\u001b[39;00m \u001b[38;5;167;01mValueError\u001b[39;00m(\n\u001b[32m    590\u001b[39m             \u001b[33mf\u001b[39m\u001b[33m\"\u001b[39m\u001b[33mnum must be an integer with 1 <= num <= \u001b[39m\u001b[38;5;132;01m{\u001b[39;00mrows*cols\u001b[38;5;132;01m}\u001b[39;00m\u001b[33m, \u001b[39m\u001b[33m\"\u001b[39m\n\u001b[32m    591\u001b[39m             \u001b[33mf\u001b[39m\u001b[33m\"\u001b[39m\u001b[33mnot \u001b[39m\u001b[38;5;132;01m{\u001b[39;00mnum\u001b[38;5;132;01m!r}\u001b[39;00m\u001b[33m\"\u001b[39m\n\u001b[32m    592\u001b[39m         )\n\u001b[32m    593\u001b[39m     i = j = num\n\u001b[32m    594\u001b[39m \u001b[38;5;28;01mreturn\u001b[39;00m gs[i-\u001b[32m1\u001b[39m:j]\n",
      "\u001b[31mValueError\u001b[39m: num must be an integer with 1 <= num <= 18, not 19"
     ]
    },
    {
     "name": "stdout",
     "output_type": "stream",
     "text": [
      "Error in callback <function _draw_all_if_interactive at 0x7f46aadf3380> (for post_execute), with arguments args (),kwargs {}:\n"
     ]
    },
    {
     "ename": "ValueError",
     "evalue": "Image size of 36000000x1000 pixels is too large. It must be less than 2^23 in each direction.",
     "output_type": "error",
     "traceback": [
      "\u001b[31m---------------------------------------------------------------------------\u001b[39m",
      "\u001b[31mValueError\u001b[39m                                Traceback (most recent call last)",
      "\u001b[36mFile \u001b[39m\u001b[32m~/Documents/Programming/school/mp/ml/.venv/lib64/python3.11/site-packages/matplotlib/pyplot.py:279\u001b[39m, in \u001b[36m_draw_all_if_interactive\u001b[39m\u001b[34m()\u001b[39m\n\u001b[32m    277\u001b[39m \u001b[38;5;28;01mdef\u001b[39;00m\u001b[38;5;250m \u001b[39m\u001b[34m_draw_all_if_interactive\u001b[39m() -> \u001b[38;5;28;01mNone\u001b[39;00m:\n\u001b[32m    278\u001b[39m     \u001b[38;5;28;01mif\u001b[39;00m matplotlib.is_interactive():\n\u001b[32m--> \u001b[39m\u001b[32m279\u001b[39m         \u001b[43mdraw_all\u001b[49m\u001b[43m(\u001b[49m\u001b[43m)\u001b[49m\n",
      "\u001b[36mFile \u001b[39m\u001b[32m~/Documents/Programming/school/mp/ml/.venv/lib64/python3.11/site-packages/matplotlib/_pylab_helpers.py:131\u001b[39m, in \u001b[36mGcf.draw_all\u001b[39m\u001b[34m(cls, force)\u001b[39m\n\u001b[32m    129\u001b[39m \u001b[38;5;28;01mfor\u001b[39;00m manager \u001b[38;5;129;01min\u001b[39;00m \u001b[38;5;28mcls\u001b[39m.get_all_fig_managers():\n\u001b[32m    130\u001b[39m     \u001b[38;5;28;01mif\u001b[39;00m force \u001b[38;5;129;01mor\u001b[39;00m manager.canvas.figure.stale:\n\u001b[32m--> \u001b[39m\u001b[32m131\u001b[39m         \u001b[43mmanager\u001b[49m\u001b[43m.\u001b[49m\u001b[43mcanvas\u001b[49m\u001b[43m.\u001b[49m\u001b[43mdraw_idle\u001b[49m\u001b[43m(\u001b[49m\u001b[43m)\u001b[49m\n",
      "\u001b[36mFile \u001b[39m\u001b[32m~/Documents/Programming/school/mp/ml/.venv/lib64/python3.11/site-packages/matplotlib/backend_bases.py:1891\u001b[39m, in \u001b[36mFigureCanvasBase.draw_idle\u001b[39m\u001b[34m(self, *args, **kwargs)\u001b[39m\n\u001b[32m   1889\u001b[39m \u001b[38;5;28;01mif\u001b[39;00m \u001b[38;5;129;01mnot\u001b[39;00m \u001b[38;5;28mself\u001b[39m._is_idle_drawing:\n\u001b[32m   1890\u001b[39m     \u001b[38;5;28;01mwith\u001b[39;00m \u001b[38;5;28mself\u001b[39m._idle_draw_cntx():\n\u001b[32m-> \u001b[39m\u001b[32m1891\u001b[39m         \u001b[38;5;28;43mself\u001b[39;49m\u001b[43m.\u001b[49m\u001b[43mdraw\u001b[49m\u001b[43m(\u001b[49m\u001b[43m*\u001b[49m\u001b[43margs\u001b[49m\u001b[43m,\u001b[49m\u001b[43m \u001b[49m\u001b[43m*\u001b[49m\u001b[43m*\u001b[49m\u001b[43mkwargs\u001b[49m\u001b[43m)\u001b[49m\n",
      "\u001b[36mFile \u001b[39m\u001b[32m~/Documents/Programming/school/mp/ml/.venv/lib64/python3.11/site-packages/matplotlib/backends/backend_agg.py:377\u001b[39m, in \u001b[36mFigureCanvasAgg.draw\u001b[39m\u001b[34m(self)\u001b[39m\n\u001b[32m    375\u001b[39m \u001b[38;5;28;01mdef\u001b[39;00m\u001b[38;5;250m \u001b[39m\u001b[34mdraw\u001b[39m(\u001b[38;5;28mself\u001b[39m):\n\u001b[32m    376\u001b[39m     \u001b[38;5;66;03m# docstring inherited\u001b[39;00m\n\u001b[32m--> \u001b[39m\u001b[32m377\u001b[39m     \u001b[38;5;28mself\u001b[39m.renderer = \u001b[38;5;28;43mself\u001b[39;49m\u001b[43m.\u001b[49m\u001b[43mget_renderer\u001b[49m\u001b[43m(\u001b[49m\u001b[43m)\u001b[49m\n\u001b[32m    378\u001b[39m     \u001b[38;5;28mself\u001b[39m.renderer.clear()\n\u001b[32m    379\u001b[39m     \u001b[38;5;66;03m# Acquire a lock on the shared font cache.\u001b[39;00m\n",
      "\u001b[36mFile \u001b[39m\u001b[32m~/Documents/Programming/school/mp/ml/.venv/lib64/python3.11/site-packages/matplotlib/backends/backend_agg.py:392\u001b[39m, in \u001b[36mFigureCanvasAgg.get_renderer\u001b[39m\u001b[34m(self)\u001b[39m\n\u001b[32m    390\u001b[39m reuse_renderer = (\u001b[38;5;28mself\u001b[39m._lastKey == key)\n\u001b[32m    391\u001b[39m \u001b[38;5;28;01mif\u001b[39;00m \u001b[38;5;129;01mnot\u001b[39;00m reuse_renderer:\n\u001b[32m--> \u001b[39m\u001b[32m392\u001b[39m     \u001b[38;5;28mself\u001b[39m.renderer = \u001b[43mRendererAgg\u001b[49m\u001b[43m(\u001b[49m\u001b[43mw\u001b[49m\u001b[43m,\u001b[49m\u001b[43m \u001b[49m\u001b[43mh\u001b[49m\u001b[43m,\u001b[49m\u001b[43m \u001b[49m\u001b[38;5;28;43mself\u001b[39;49m\u001b[43m.\u001b[49m\u001b[43mfigure\u001b[49m\u001b[43m.\u001b[49m\u001b[43mdpi\u001b[49m\u001b[43m)\u001b[49m\n\u001b[32m    393\u001b[39m     \u001b[38;5;28mself\u001b[39m._lastKey = key\n\u001b[32m    394\u001b[39m \u001b[38;5;28;01mreturn\u001b[39;00m \u001b[38;5;28mself\u001b[39m.renderer\n",
      "\u001b[36mFile \u001b[39m\u001b[32m~/Documents/Programming/school/mp/ml/.venv/lib64/python3.11/site-packages/matplotlib/backends/backend_agg.py:69\u001b[39m, in \u001b[36mRendererAgg.__init__\u001b[39m\u001b[34m(self, width, height, dpi)\u001b[39m\n\u001b[32m     67\u001b[39m \u001b[38;5;28mself\u001b[39m.width = width\n\u001b[32m     68\u001b[39m \u001b[38;5;28mself\u001b[39m.height = height\n\u001b[32m---> \u001b[39m\u001b[32m69\u001b[39m \u001b[38;5;28mself\u001b[39m._renderer = \u001b[43m_RendererAgg\u001b[49m\u001b[43m(\u001b[49m\u001b[38;5;28;43mint\u001b[39;49m\u001b[43m(\u001b[49m\u001b[43mwidth\u001b[49m\u001b[43m)\u001b[49m\u001b[43m,\u001b[49m\u001b[43m \u001b[49m\u001b[38;5;28;43mint\u001b[39;49m\u001b[43m(\u001b[49m\u001b[43mheight\u001b[49m\u001b[43m)\u001b[49m\u001b[43m,\u001b[49m\u001b[43m \u001b[49m\u001b[43mdpi\u001b[49m\u001b[43m)\u001b[49m\n\u001b[32m     70\u001b[39m \u001b[38;5;28mself\u001b[39m._filter_renderers = []\n\u001b[32m     72\u001b[39m \u001b[38;5;28mself\u001b[39m._update_methods()\n",
      "\u001b[31mValueError\u001b[39m: Image size of 36000000x1000 pixels is too large. It must be less than 2^23 in each direction."
     ]
    },
    {
     "ename": "ValueError",
     "evalue": "Image size of 36000000x1000 pixels is too large. It must be less than 2^23 in each direction.",
     "output_type": "error",
     "traceback": [
      "\u001b[31m---------------------------------------------------------------------------\u001b[39m",
      "\u001b[31mValueError\u001b[39m                                Traceback (most recent call last)",
      "\u001b[36mFile \u001b[39m\u001b[32m~/Documents/Programming/school/mp/ml/.venv/lib64/python3.11/site-packages/IPython/core/formatters.py:402\u001b[39m, in \u001b[36mBaseFormatter.__call__\u001b[39m\u001b[34m(self, obj)\u001b[39m\n\u001b[32m    400\u001b[39m     \u001b[38;5;28;01mpass\u001b[39;00m\n\u001b[32m    401\u001b[39m \u001b[38;5;28;01melse\u001b[39;00m:\n\u001b[32m--> \u001b[39m\u001b[32m402\u001b[39m     \u001b[38;5;28;01mreturn\u001b[39;00m \u001b[43mprinter\u001b[49m\u001b[43m(\u001b[49m\u001b[43mobj\u001b[49m\u001b[43m)\u001b[49m\n\u001b[32m    403\u001b[39m \u001b[38;5;66;03m# Finally look for special method names\u001b[39;00m\n\u001b[32m    404\u001b[39m method = get_real_method(obj, \u001b[38;5;28mself\u001b[39m.print_method)\n",
      "\u001b[36mFile \u001b[39m\u001b[32m~/Documents/Programming/school/mp/ml/.venv/lib64/python3.11/site-packages/IPython/core/pylabtools.py:170\u001b[39m, in \u001b[36mprint_figure\u001b[39m\u001b[34m(fig, fmt, bbox_inches, base64, **kwargs)\u001b[39m\n\u001b[32m    167\u001b[39m     \u001b[38;5;28;01mfrom\u001b[39;00m\u001b[38;5;250m \u001b[39m\u001b[34;01mmatplotlib\u001b[39;00m\u001b[34;01m.\u001b[39;00m\u001b[34;01mbackend_bases\u001b[39;00m\u001b[38;5;250m \u001b[39m\u001b[38;5;28;01mimport\u001b[39;00m FigureCanvasBase\n\u001b[32m    168\u001b[39m     FigureCanvasBase(fig)\n\u001b[32m--> \u001b[39m\u001b[32m170\u001b[39m \u001b[43mfig\u001b[49m\u001b[43m.\u001b[49m\u001b[43mcanvas\u001b[49m\u001b[43m.\u001b[49m\u001b[43mprint_figure\u001b[49m\u001b[43m(\u001b[49m\u001b[43mbytes_io\u001b[49m\u001b[43m,\u001b[49m\u001b[43m \u001b[49m\u001b[43m*\u001b[49m\u001b[43m*\u001b[49m\u001b[43mkw\u001b[49m\u001b[43m)\u001b[49m\n\u001b[32m    171\u001b[39m data = bytes_io.getvalue()\n\u001b[32m    172\u001b[39m \u001b[38;5;28;01mif\u001b[39;00m fmt == \u001b[33m'\u001b[39m\u001b[33msvg\u001b[39m\u001b[33m'\u001b[39m:\n",
      "\u001b[36mFile \u001b[39m\u001b[32m~/Documents/Programming/school/mp/ml/.venv/lib64/python3.11/site-packages/matplotlib/backend_bases.py:2147\u001b[39m, in \u001b[36mFigureCanvasBase.print_figure\u001b[39m\u001b[34m(self, filename, dpi, facecolor, edgecolor, orientation, format, bbox_inches, pad_inches, bbox_extra_artists, backend, **kwargs)\u001b[39m\n\u001b[32m   2142\u001b[39m layout_engine = \u001b[38;5;28mself\u001b[39m.figure.get_layout_engine()\n\u001b[32m   2143\u001b[39m \u001b[38;5;28;01mif\u001b[39;00m layout_engine \u001b[38;5;129;01mis\u001b[39;00m \u001b[38;5;129;01mnot\u001b[39;00m \u001b[38;5;28;01mNone\u001b[39;00m \u001b[38;5;129;01mor\u001b[39;00m bbox_inches == \u001b[33m\"\u001b[39m\u001b[33mtight\u001b[39m\u001b[33m\"\u001b[39m:\n\u001b[32m   2144\u001b[39m     \u001b[38;5;66;03m# we need to trigger a draw before printing to make sure\u001b[39;00m\n\u001b[32m   2145\u001b[39m     \u001b[38;5;66;03m# CL works.  \"tight\" also needs a draw to get the right\u001b[39;00m\n\u001b[32m   2146\u001b[39m     \u001b[38;5;66;03m# locations:\u001b[39;00m\n\u001b[32m-> \u001b[39m\u001b[32m2147\u001b[39m     renderer = \u001b[43m_get_renderer\u001b[49m\u001b[43m(\u001b[49m\n\u001b[32m   2148\u001b[39m \u001b[43m        \u001b[49m\u001b[38;5;28;43mself\u001b[39;49m\u001b[43m.\u001b[49m\u001b[43mfigure\u001b[49m\u001b[43m,\u001b[49m\n\u001b[32m   2149\u001b[39m \u001b[43m        \u001b[49m\u001b[43mfunctools\u001b[49m\u001b[43m.\u001b[49m\u001b[43mpartial\u001b[49m\u001b[43m(\u001b[49m\n\u001b[32m   2150\u001b[39m \u001b[43m            \u001b[49m\u001b[43mprint_method\u001b[49m\u001b[43m,\u001b[49m\u001b[43m \u001b[49m\u001b[43morientation\u001b[49m\u001b[43m=\u001b[49m\u001b[43morientation\u001b[49m\u001b[43m)\u001b[49m\n\u001b[32m   2151\u001b[39m \u001b[43m    \u001b[49m\u001b[43m)\u001b[49m\n\u001b[32m   2152\u001b[39m     \u001b[38;5;66;03m# we do this instead of `self.figure.draw_without_rendering`\u001b[39;00m\n\u001b[32m   2153\u001b[39m     \u001b[38;5;66;03m# so that we can inject the orientation\u001b[39;00m\n\u001b[32m   2154\u001b[39m     \u001b[38;5;28;01mwith\u001b[39;00m \u001b[38;5;28mgetattr\u001b[39m(renderer, \u001b[33m\"\u001b[39m\u001b[33m_draw_disabled\u001b[39m\u001b[33m\"\u001b[39m, nullcontext)():\n",
      "\u001b[36mFile \u001b[39m\u001b[32m~/Documents/Programming/school/mp/ml/.venv/lib64/python3.11/site-packages/matplotlib/backend_bases.py:1574\u001b[39m, in \u001b[36m_get_renderer\u001b[39m\u001b[34m(figure, print_method)\u001b[39m\n\u001b[32m   1571\u001b[39m     print_method = stack.enter_context(\n\u001b[32m   1572\u001b[39m         figure.canvas._switch_canvas_and_return_print_method(fmt))\n\u001b[32m   1573\u001b[39m \u001b[38;5;28;01mtry\u001b[39;00m:\n\u001b[32m-> \u001b[39m\u001b[32m1574\u001b[39m     \u001b[43mprint_method\u001b[49m\u001b[43m(\u001b[49m\u001b[43mio\u001b[49m\u001b[43m.\u001b[49m\u001b[43mBytesIO\u001b[49m\u001b[43m(\u001b[49m\u001b[43m)\u001b[49m\u001b[43m)\u001b[49m\n\u001b[32m   1575\u001b[39m \u001b[38;5;28;01mexcept\u001b[39;00m Done \u001b[38;5;28;01mas\u001b[39;00m exc:\n\u001b[32m   1576\u001b[39m     renderer, = exc.args\n",
      "\u001b[36mFile \u001b[39m\u001b[32m~/Documents/Programming/school/mp/ml/.venv/lib64/python3.11/site-packages/matplotlib/backend_bases.py:2040\u001b[39m, in \u001b[36mFigureCanvasBase._switch_canvas_and_return_print_method.<locals>.<lambda>\u001b[39m\u001b[34m(*args, **kwargs)\u001b[39m\n\u001b[32m   2036\u001b[39m     optional_kws = {  \u001b[38;5;66;03m# Passed by print_figure for other renderers.\u001b[39;00m\n\u001b[32m   2037\u001b[39m         \u001b[33m\"\u001b[39m\u001b[33mdpi\u001b[39m\u001b[33m\"\u001b[39m, \u001b[33m\"\u001b[39m\u001b[33mfacecolor\u001b[39m\u001b[33m\"\u001b[39m, \u001b[33m\"\u001b[39m\u001b[33medgecolor\u001b[39m\u001b[33m\"\u001b[39m, \u001b[33m\"\u001b[39m\u001b[33morientation\u001b[39m\u001b[33m\"\u001b[39m,\n\u001b[32m   2038\u001b[39m         \u001b[33m\"\u001b[39m\u001b[33mbbox_inches_restore\u001b[39m\u001b[33m\"\u001b[39m}\n\u001b[32m   2039\u001b[39m     skip = optional_kws - {*inspect.signature(meth).parameters}\n\u001b[32m-> \u001b[39m\u001b[32m2040\u001b[39m     print_method = functools.wraps(meth)(\u001b[38;5;28;01mlambda\u001b[39;00m *args, **kwargs: \u001b[43mmeth\u001b[49m\u001b[43m(\u001b[49m\n\u001b[32m   2041\u001b[39m \u001b[43m        \u001b[49m\u001b[43m*\u001b[49m\u001b[43margs\u001b[49m\u001b[43m,\u001b[49m\u001b[43m \u001b[49m\u001b[43m*\u001b[49m\u001b[43m*\u001b[49m\u001b[43m{\u001b[49m\u001b[43mk\u001b[49m\u001b[43m:\u001b[49m\u001b[43m \u001b[49m\u001b[43mv\u001b[49m\u001b[43m \u001b[49m\u001b[38;5;28;43;01mfor\u001b[39;49;00m\u001b[43m \u001b[49m\u001b[43mk\u001b[49m\u001b[43m,\u001b[49m\u001b[43m \u001b[49m\u001b[43mv\u001b[49m\u001b[43m \u001b[49m\u001b[38;5;129;43;01min\u001b[39;49;00m\u001b[43m \u001b[49m\u001b[43mkwargs\u001b[49m\u001b[43m.\u001b[49m\u001b[43mitems\u001b[49m\u001b[43m(\u001b[49m\u001b[43m)\u001b[49m\u001b[43m \u001b[49m\u001b[38;5;28;43;01mif\u001b[39;49;00m\u001b[43m \u001b[49m\u001b[43mk\u001b[49m\u001b[43m \u001b[49m\u001b[38;5;129;43;01mnot\u001b[39;49;00m\u001b[43m \u001b[49m\u001b[38;5;129;43;01min\u001b[39;49;00m\u001b[43m \u001b[49m\u001b[43mskip\u001b[49m\u001b[43m}\u001b[49m\u001b[43m)\u001b[49m)\n\u001b[32m   2042\u001b[39m \u001b[38;5;28;01melse\u001b[39;00m:  \u001b[38;5;66;03m# Let third-parties do as they see fit.\u001b[39;00m\n\u001b[32m   2043\u001b[39m     print_method = meth\n",
      "\u001b[36mFile \u001b[39m\u001b[32m~/Documents/Programming/school/mp/ml/.venv/lib64/python3.11/site-packages/matplotlib/backends/backend_agg.py:481\u001b[39m, in \u001b[36mFigureCanvasAgg.print_png\u001b[39m\u001b[34m(self, filename_or_obj, metadata, pil_kwargs)\u001b[39m\n\u001b[32m    434\u001b[39m \u001b[38;5;28;01mdef\u001b[39;00m\u001b[38;5;250m \u001b[39m\u001b[34mprint_png\u001b[39m(\u001b[38;5;28mself\u001b[39m, filename_or_obj, *, metadata=\u001b[38;5;28;01mNone\u001b[39;00m, pil_kwargs=\u001b[38;5;28;01mNone\u001b[39;00m):\n\u001b[32m    435\u001b[39m \u001b[38;5;250m    \u001b[39m\u001b[33;03m\"\"\"\u001b[39;00m\n\u001b[32m    436\u001b[39m \u001b[33;03m    Write the figure to a PNG file.\u001b[39;00m\n\u001b[32m    437\u001b[39m \n\u001b[32m   (...)\u001b[39m\u001b[32m    479\u001b[39m \u001b[33;03m        *metadata*, including the default 'Software' key.\u001b[39;00m\n\u001b[32m    480\u001b[39m \u001b[33;03m    \"\"\"\u001b[39;00m\n\u001b[32m--> \u001b[39m\u001b[32m481\u001b[39m     \u001b[38;5;28;43mself\u001b[39;49m\u001b[43m.\u001b[49m\u001b[43m_print_pil\u001b[49m\u001b[43m(\u001b[49m\u001b[43mfilename_or_obj\u001b[49m\u001b[43m,\u001b[49m\u001b[43m \u001b[49m\u001b[33;43m\"\u001b[39;49m\u001b[33;43mpng\u001b[39;49m\u001b[33;43m\"\u001b[39;49m\u001b[43m,\u001b[49m\u001b[43m \u001b[49m\u001b[43mpil_kwargs\u001b[49m\u001b[43m,\u001b[49m\u001b[43m \u001b[49m\u001b[43mmetadata\u001b[49m\u001b[43m)\u001b[49m\n",
      "\u001b[36mFile \u001b[39m\u001b[32m~/Documents/Programming/school/mp/ml/.venv/lib64/python3.11/site-packages/matplotlib/backends/backend_agg.py:429\u001b[39m, in \u001b[36mFigureCanvasAgg._print_pil\u001b[39m\u001b[34m(self, filename_or_obj, fmt, pil_kwargs, metadata)\u001b[39m\n\u001b[32m    424\u001b[39m \u001b[38;5;28;01mdef\u001b[39;00m\u001b[38;5;250m \u001b[39m\u001b[34m_print_pil\u001b[39m(\u001b[38;5;28mself\u001b[39m, filename_or_obj, fmt, pil_kwargs, metadata=\u001b[38;5;28;01mNone\u001b[39;00m):\n\u001b[32m    425\u001b[39m \u001b[38;5;250m    \u001b[39m\u001b[33;03m\"\"\"\u001b[39;00m\n\u001b[32m    426\u001b[39m \u001b[33;03m    Draw the canvas, then save it using `.image.imsave` (to which\u001b[39;00m\n\u001b[32m    427\u001b[39m \u001b[33;03m    *pil_kwargs* and *metadata* are forwarded).\u001b[39;00m\n\u001b[32m    428\u001b[39m \u001b[33;03m    \"\"\"\u001b[39;00m\n\u001b[32m--> \u001b[39m\u001b[32m429\u001b[39m     \u001b[43mFigureCanvasAgg\u001b[49m\u001b[43m.\u001b[49m\u001b[43mdraw\u001b[49m\u001b[43m(\u001b[49m\u001b[38;5;28;43mself\u001b[39;49m\u001b[43m)\u001b[49m\n\u001b[32m    430\u001b[39m     mpl.image.imsave(\n\u001b[32m    431\u001b[39m         filename_or_obj, \u001b[38;5;28mself\u001b[39m.buffer_rgba(), \u001b[38;5;28mformat\u001b[39m=fmt, origin=\u001b[33m\"\u001b[39m\u001b[33mupper\u001b[39m\u001b[33m\"\u001b[39m,\n\u001b[32m    432\u001b[39m         dpi=\u001b[38;5;28mself\u001b[39m.figure.dpi, metadata=metadata, pil_kwargs=pil_kwargs)\n",
      "\u001b[36mFile \u001b[39m\u001b[32m~/Documents/Programming/school/mp/ml/.venv/lib64/python3.11/site-packages/matplotlib/backends/backend_agg.py:377\u001b[39m, in \u001b[36mFigureCanvasAgg.draw\u001b[39m\u001b[34m(self)\u001b[39m\n\u001b[32m    375\u001b[39m \u001b[38;5;28;01mdef\u001b[39;00m\u001b[38;5;250m \u001b[39m\u001b[34mdraw\u001b[39m(\u001b[38;5;28mself\u001b[39m):\n\u001b[32m    376\u001b[39m     \u001b[38;5;66;03m# docstring inherited\u001b[39;00m\n\u001b[32m--> \u001b[39m\u001b[32m377\u001b[39m     \u001b[38;5;28mself\u001b[39m.renderer = \u001b[38;5;28;43mself\u001b[39;49m\u001b[43m.\u001b[49m\u001b[43mget_renderer\u001b[49m\u001b[43m(\u001b[49m\u001b[43m)\u001b[49m\n\u001b[32m    378\u001b[39m     \u001b[38;5;28mself\u001b[39m.renderer.clear()\n\u001b[32m    379\u001b[39m     \u001b[38;5;66;03m# Acquire a lock on the shared font cache.\u001b[39;00m\n",
      "\u001b[36mFile \u001b[39m\u001b[32m~/Documents/Programming/school/mp/ml/.venv/lib64/python3.11/site-packages/matplotlib/backends/backend_agg.py:392\u001b[39m, in \u001b[36mFigureCanvasAgg.get_renderer\u001b[39m\u001b[34m(self)\u001b[39m\n\u001b[32m    390\u001b[39m reuse_renderer = (\u001b[38;5;28mself\u001b[39m._lastKey == key)\n\u001b[32m    391\u001b[39m \u001b[38;5;28;01mif\u001b[39;00m \u001b[38;5;129;01mnot\u001b[39;00m reuse_renderer:\n\u001b[32m--> \u001b[39m\u001b[32m392\u001b[39m     \u001b[38;5;28mself\u001b[39m.renderer = \u001b[43mRendererAgg\u001b[49m\u001b[43m(\u001b[49m\u001b[43mw\u001b[49m\u001b[43m,\u001b[49m\u001b[43m \u001b[49m\u001b[43mh\u001b[49m\u001b[43m,\u001b[49m\u001b[43m \u001b[49m\u001b[38;5;28;43mself\u001b[39;49m\u001b[43m.\u001b[49m\u001b[43mfigure\u001b[49m\u001b[43m.\u001b[49m\u001b[43mdpi\u001b[49m\u001b[43m)\u001b[49m\n\u001b[32m    393\u001b[39m     \u001b[38;5;28mself\u001b[39m._lastKey = key\n\u001b[32m    394\u001b[39m \u001b[38;5;28;01mreturn\u001b[39;00m \u001b[38;5;28mself\u001b[39m.renderer\n",
      "\u001b[36mFile \u001b[39m\u001b[32m~/Documents/Programming/school/mp/ml/.venv/lib64/python3.11/site-packages/matplotlib/backends/backend_agg.py:69\u001b[39m, in \u001b[36mRendererAgg.__init__\u001b[39m\u001b[34m(self, width, height, dpi)\u001b[39m\n\u001b[32m     67\u001b[39m \u001b[38;5;28mself\u001b[39m.width = width\n\u001b[32m     68\u001b[39m \u001b[38;5;28mself\u001b[39m.height = height\n\u001b[32m---> \u001b[39m\u001b[32m69\u001b[39m \u001b[38;5;28mself\u001b[39m._renderer = \u001b[43m_RendererAgg\u001b[49m\u001b[43m(\u001b[49m\u001b[38;5;28;43mint\u001b[39;49m\u001b[43m(\u001b[49m\u001b[43mwidth\u001b[49m\u001b[43m)\u001b[49m\u001b[43m,\u001b[49m\u001b[43m \u001b[49m\u001b[38;5;28;43mint\u001b[39;49m\u001b[43m(\u001b[49m\u001b[43mheight\u001b[49m\u001b[43m)\u001b[49m\u001b[43m,\u001b[49m\u001b[43m \u001b[49m\u001b[43mdpi\u001b[49m\u001b[43m)\u001b[49m\n\u001b[32m     70\u001b[39m \u001b[38;5;28mself\u001b[39m._filter_renderers = []\n\u001b[32m     72\u001b[39m \u001b[38;5;28mself\u001b[39m._update_methods()\n",
      "\u001b[31mValueError\u001b[39m: Image size of 36000000x1000 pixels is too large. It must be less than 2^23 in each direction."
     ]
    },
    {
     "data": {
      "text/plain": [
       "<Figure size 3.6e+07x1000 with 18 Axes>"
      ]
     },
     "metadata": {},
     "output_type": "display_data"
    }
   ],
   "source": [
    "main(50)"
   ]
  },
  {
   "cell_type": "code",
   "execution_count": null,
   "metadata": {
    "id": "Px8pxNg2IEzN"
   },
   "outputs": [],
   "source": [
    "\n"
   ]
  }
 ],
 "metadata": {
  "accelerator": "GPU",
  "colab": {
   "provenance": []
  },
  "kernelspec": {
   "display_name": ".venv",
   "language": "python",
   "name": "python3"
  },
  "language_info": {
   "codemirror_mode": {
    "name": "ipython",
    "version": 3
   },
   "file_extension": ".py",
   "mimetype": "text/x-python",
   "name": "python",
   "nbconvert_exporter": "python",
   "pygments_lexer": "ipython3",
   "version": "3.11.13"
  },
  "widgets": {
   "application/vnd.jupyter.widget-state+json": {
    "10a7fd99c1d346cab1b874fe3a33b578": {
     "model_module": "catboost-widget",
     "model_module_version": "^1.0.0",
     "model_name": "CatboostWidgetModel",
     "state": {
      "_dom_classes": [],
      "_model_module": "catboost-widget",
      "_model_module_version": "^1.0.0",
      "_model_name": "CatboostWidgetModel",
      "_view_count": null,
      "_view_module": "catboost-widget",
      "_view_module_version": "^1.0.0",
      "_view_name": "CatboostWidgetView",
      "data": {
       "catboost_info": {
        "content": {
         "data": {
          "iterations": [
           {
            "iteration": 0,
            "learn": [
             0.6916633898
            ],
            "passed_time": 0.1114433171,
            "remaining_time": 5.460722536,
            "test": [
             0.7165013538,
             0.6916847343
            ]
           },
           {
            "iteration": 1,
            "learn": [
             0.6902196181
            ],
            "passed_time": 0.1650487025,
            "remaining_time": 3.961168861,
            "test": [
             0.7238727299,
             0.6902311771
            ]
           },
           {
            "iteration": 2,
            "learn": [
             0.6888094184
            ],
            "passed_time": 0.2175594505,
            "remaining_time": 3.408431391,
            "test": [
             0.7254303759,
             0.6888646865
            ]
           },
           {
            "iteration": 3,
            "learn": [
             0.6874407118
            ],
            "passed_time": 0.2698472851,
            "remaining_time": 3.103243779,
            "test": [
             0.7265657757,
             0.6874616687
            ]
           },
           {
            "iteration": 4,
            "learn": [
             0.6860414931
            ],
            "passed_time": 0.3287480469,
            "remaining_time": 2.958732422,
            "test": [
             0.7266128558,
             0.6860813327
            ]
           },
           {
            "iteration": 5,
            "learn": [
             0.6846872396
            ],
            "passed_time": 0.3830844218,
            "remaining_time": 2.80928576,
            "test": [
             0.7271829665,
             0.6847418468
            ]
           },
           {
            "iteration": 6,
            "learn": [
             0.6833575304
            ],
            "passed_time": 0.4344433488,
            "remaining_time": 2.668723428,
            "test": [
             0.7270334815,
             0.6834469613
            ]
           },
           {
            "iteration": 7,
            "learn": [
             0.682089822
            ],
            "passed_time": 0.4884043201,
            "remaining_time": 2.56412268,
            "test": [
             0.7280009945,
             0.6821548522
            ]
           },
           {
            "iteration": 8,
            "learn": [
             0.6808637587
            ],
            "passed_time": 0.5472528367,
            "remaining_time": 2.493040701,
            "test": [
             0.7281728863,
             0.6809101358
            ]
           },
           {
            "iteration": 9,
            "learn": [
             0.6796184896
            ],
            "passed_time": 0.5995053199,
            "remaining_time": 2.39802128,
            "test": [
             0.7287496121,
             0.6796849114
            ]
           },
           {
            "iteration": 10,
            "learn": [
             0.6784099826
            ],
            "passed_time": 0.6523864422,
            "remaining_time": 2.313006477,
            "test": [
             0.7290635383,
             0.6784944018
            ]
           },
           {
            "iteration": 11,
            "learn": [
             0.6771923177
            ],
            "passed_time": 0.7974140617,
            "remaining_time": 2.525144529,
            "test": [
             0.7289357352,
             0.6772752682
            ]
           },
           {
            "iteration": 12,
            "learn": [
             0.6759924696
            ],
            "passed_time": 0.8523564658,
            "remaining_time": 2.425937634,
            "test": [
             0.7292818442,
             0.6761079808
            ]
           },
           {
            "iteration": 13,
            "learn": [
             0.6748448568
            ],
            "passed_time": 0.9319069069,
            "remaining_time": 2.396332046,
            "test": [
             0.7291167043,
             0.6749586296
            ]
           },
           {
            "iteration": 14,
            "learn": [
             0.6736886719
            ],
            "passed_time": 1.026234789,
            "remaining_time": 2.39454784,
            "test": [
             0.7293030218,
             0.6737960143
            ]
           },
           {
            "iteration": 15,
            "learn": [
             0.6725832465
            ],
            "passed_time": 1.139860167,
            "remaining_time": 2.422202854,
            "test": [
             0.7296166632,
             0.6727093782
            ]
           },
           {
            "iteration": 16,
            "learn": [
             0.6714412543
            ],
            "passed_time": 1.211839138,
            "remaining_time": 2.35239362,
            "test": [
             0.729703975,
             0.6716158856
            ]
           },
           {
            "iteration": 17,
            "learn": [
             0.670366645
            ],
            "passed_time": 1.327209414,
            "remaining_time": 2.359483403,
            "test": [
             0.7304440508,
             0.6705264518
            ]
           },
           {
            "iteration": 18,
            "learn": [
             0.6693389757
            ],
            "passed_time": 1.594285105,
            "remaining_time": 2.601202013,
            "test": [
             0.7312898716,
             0.669484484
            ]
           },
           {
            "iteration": 19,
            "learn": [
             0.6682920139
            ],
            "passed_time": 1.701829344,
            "remaining_time": 2.552744016,
            "test": [
             0.7316212765,
             0.6684376116
            ]
           },
           {
            "iteration": 20,
            "learn": [
             0.6672165582
            ],
            "passed_time": 1.809775616,
            "remaining_time": 2.499213946,
            "test": [
             0.7316788764,
             0.6673914851
            ]
           },
           {
            "iteration": 21,
            "learn": [
             0.666177474
            ],
            "passed_time": 1.919799453,
            "remaining_time": 2.443381122,
            "test": [
             0.731947545,
             0.666361388
            ]
           },
           {
            "iteration": 22,
            "learn": [
             0.665164974
            ],
            "passed_time": 2.040741625,
            "remaining_time": 2.395653211,
            "test": [
             0.7317686718,
             0.6653503609
            ]
           },
           {
            "iteration": 23,
            "learn": [
             0.6641772786
            ],
            "passed_time": 2.13017259,
            "remaining_time": 2.307686972,
            "test": [
             0.732296436,
             0.6643947333
            ]
           },
           {
            "iteration": 24,
            "learn": [
             0.6632254557
            ],
            "passed_time": 2.378515898,
            "remaining_time": 2.378515898,
            "test": [
             0.732479639,
             0.6634423279
            ]
           },
           {
            "iteration": 25,
            "learn": [
             0.6622911241
            ],
            "passed_time": 2.499153854,
            "remaining_time": 2.30691125,
            "test": [
             0.7325254511,
             0.662498853
            ]
           },
           {
            "iteration": 26,
            "learn": [
             0.6613308377
            ],
            "passed_time": 2.602007317,
            "remaining_time": 2.216524752,
            "test": [
             0.7327284219,
             0.661539147
            ]
           },
           {
            "iteration": 27,
            "learn": [
             0.6603581597
            ],
            "passed_time": 2.708236674,
            "remaining_time": 2.127900244,
            "test": [
             0.7326182856,
             0.6606038676
            ]
           },
           {
            "iteration": 28,
            "learn": [
             0.6593988281
            ],
            "passed_time": 2.824888001,
            "remaining_time": 2.045608553,
            "test": [
             0.7329923818,
             0.6596625946
            ]
           },
           {
            "iteration": 29,
            "learn": [
             0.6585838108
            ],
            "passed_time": 2.935583168,
            "remaining_time": 1.957055445,
            "test": [
             0.7334402408,
             0.6588228013
            ]
           },
           {
            "iteration": 30,
            "learn": [
             0.6576985026
            ],
            "passed_time": 3.051414356,
            "remaining_time": 1.870221702,
            "test": [
             0.7335058946,
             0.6579374495
            ]
           },
           {
            "iteration": 31,
            "learn": [
             0.6568157118
            ],
            "passed_time": 3.184347319,
            "remaining_time": 1.791195367,
            "test": [
             0.7342025127,
             0.6570699608
            ]
           },
           {
            "iteration": 32,
            "learn": [
             0.6559942057
            ],
            "passed_time": 3.30088932,
            "remaining_time": 1.700458135,
            "test": [
             0.7343261089,
             0.6562370001
            ]
           },
           {
            "iteration": 33,
            "learn": [
             0.6551383247
            ],
            "passed_time": 3.396923587,
            "remaining_time": 1.598552276,
            "test": [
             0.734769677,
             0.6553878845
            ]
           },
           {
            "iteration": 34,
            "learn": [
             0.654342079
            ],
            "passed_time": 3.503931818,
            "remaining_time": 1.501685065,
            "test": [
             0.7349414421,
             0.6545811521
            ]
           },
           {
            "iteration": 35,
            "learn": [
             0.6535072266
            ],
            "passed_time": 3.594371476,
            "remaining_time": 1.397811129,
            "test": [
             0.7348788826,
             0.6537908026
            ]
           },
           {
            "iteration": 36,
            "learn": [
             0.6527396701
            ],
            "passed_time": 3.686322591,
            "remaining_time": 1.295194424,
            "test": [
             0.7351536496,
             0.6529978698
            ]
           },
           {
            "iteration": 37,
            "learn": [
             0.6520163628
            ],
            "passed_time": 3.794694616,
            "remaining_time": 1.198324616,
            "test": [
             0.7353868942,
             0.6522352195
            ]
           },
           {
            "iteration": 38,
            "learn": [
             0.651169401
            ],
            "passed_time": 3.867747018,
            "remaining_time": 1.090903005,
            "test": [
             0.7354933817,
             0.6514400387
            ]
           },
           {
            "iteration": 39,
            "learn": [
             0.6503473958
            ],
            "passed_time": 3.971022776,
            "remaining_time": 0.992755694,
            "test": [
             0.7357077566,
             0.6506213024
            ]
           },
           {
            "iteration": 40,
            "learn": [
             0.6495710286
            ],
            "passed_time": 4.082239942,
            "remaining_time": 0.8961014506,
            "test": [
             0.7360383424,
             0.6498317327
            ]
           },
           {
            "iteration": 41,
            "learn": [
             0.6488064887
            ],
            "passed_time": 4.197089112,
            "remaining_time": 0.7994455452,
            "test": [
             0.7362938081,
             0.6490926303
            ]
           },
           {
            "iteration": 42,
            "learn": [
             0.648097678
            ],
            "passed_time": 4.308323809,
            "remaining_time": 0.7013550386,
            "test": [
             0.7364482488,
             0.6483614648
            ]
           },
           {
            "iteration": 43,
            "learn": [
             0.6473506727
            ],
            "passed_time": 4.419975153,
            "remaining_time": 0.6027238846,
            "test": [
             0.7366921324,
             0.6476182819
            ]
           },
           {
            "iteration": 44,
            "learn": [
             0.6466355469
            ],
            "passed_time": 4.536250946,
            "remaining_time": 0.5040278828,
            "test": [
             0.7368388215,
             0.6469086086
            ]
           },
           {
            "iteration": 45,
            "learn": [
             0.6459222656
            ],
            "passed_time": 4.648703626,
            "remaining_time": 0.4042350979,
            "test": [
             0.7368431815,
             0.6461928086
            ]
           },
           {
            "iteration": 46,
            "learn": [
             0.645193099
            ],
            "passed_time": 4.765317764,
            "remaining_time": 0.304169219,
            "test": [
             0.7372850274,
             0.6454781877
            ]
           },
           {
            "iteration": 47,
            "learn": [
             0.6445314236
            ],
            "passed_time": 4.879745353,
            "remaining_time": 0.203322723,
            "test": [
             0.7371921089,
             0.6447960567
            ]
           },
           {
            "iteration": 48,
            "learn": [
             0.6438507595
            ],
            "passed_time": 4.989405945,
            "remaining_time": 0.1018246111,
            "test": [
             0.7374203877,
             0.6441379548
            ]
           },
           {
            "iteration": 49,
            "learn": [
             0.6432447266
            ],
            "passed_time": 5.099611583,
            "remaining_time": 0,
            "test": [
             0.7376774991,
             0.6434924404
            ]
           }
          ],
          "meta": {
           "iteration_count": 50,
           "launch_mode": "Train",
           "learn_metrics": [
            {
             "best_value": "Min",
             "name": "Logloss"
            }
           ],
           "learn_sets": [
            "learn"
           ],
           "name": "experiment",
           "parameters": "",
           "test_metrics": [
            {
             "best_value": "Max",
             "name": "AUC"
            },
            {
             "best_value": "Min",
             "name": "Logloss"
            }
           ],
           "test_sets": [
            "test"
           ]
          }
         },
         "passed_iterations": 49,
         "total_iterations": 50
        },
        "name": "catboost_info",
        "path": "catboost_info"
       }
      },
      "layout": "IPY_MODEL_a4287758db1b440db9d4c8fe2c94bd35"
     }
    }
   }
  }
 },
 "nbformat": 4,
 "nbformat_minor": 0
}
